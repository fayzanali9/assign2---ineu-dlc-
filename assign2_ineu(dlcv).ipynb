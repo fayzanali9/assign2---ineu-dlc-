{
  "nbformat": 4,
  "nbformat_minor": 0,
  "metadata": {
    "colab": {
      "name": "assign2 -ineu(dlcv)",
      "provenance": [],
      "collapsed_sections": [],
      "authorship_tag": "ABX9TyMx5T9GkZZ3U4rYHv1uAHtE",
      "include_colab_link": true
    },
    "kernelspec": {
      "name": "python3",
      "display_name": "Python 3"
    }
  },
  "cells": [
    {
      "cell_type": "markdown",
      "metadata": {
        "id": "view-in-github",
        "colab_type": "text"
      },
      "source": [
        "<a href=\"https://colab.research.google.com/github/fayzanali9/assign2---ineu-dlc-/blob/main/assign2_ineu(dlcv).ipynb\" target=\"_parent\"><img src=\"https://colab.research.google.com/assets/colab-badge.svg\" alt=\"Open In Colab\"/></a>"
      ]
    },
    {
      "cell_type": "code",
      "metadata": {
        "id": "By8dKcJSeYIa",
        "outputId": "de1ba028-0087-4f52-cf96-86bd004ac46c",
        "colab": {
          "base_uri": "https://localhost:8080/",
          "height": 191
        }
      },
      "source": [
        "\"\"\"\n",
        "1. Create the below pattern using nested for loop in Python.\n",
        "*\n",
        "* *\n",
        "* * *\n",
        "* * * *\n",
        "* * * * *\n",
        "* * * *\n",
        "* * *\n",
        "* *\n",
        "*\n",
        "\"\"\"\n",
        "\n",
        "# Was not able to solve it ,took some help from here 'https://pynative.com/print-pattern-python-examples/'\n",
        "\n",
        "rows = 9 \n",
        "for i in range(0, (rows//2)+1):\n",
        "    for j in range(0, i + 1):\n",
        "        print(\"*\", end=' ')\n",
        "    print()\n",
        "else:\n",
        "  for i in range((rows//2)+1, 0, -1):\n",
        "      for j in range(0, i - 1):\n",
        "          print(\"*\", end=' ')\n",
        "      print()\n"
      ],
      "execution_count": 44,
      "outputs": [
        {
          "output_type": "stream",
          "text": [
            "* \n",
            "* * \n",
            "* * * \n",
            "* * * * \n",
            "* * * * * \n",
            "* * * * \n",
            "* * * \n",
            "* * \n",
            "* \n",
            "\n"
          ],
          "name": "stdout"
        }
      ]
    },
    {
      "cell_type": "code",
      "metadata": {
        "id": "MWmXdZBt8EiW",
        "outputId": "8f22d19b-35a1-4819-e341-c300f4f94d21",
        "colab": {
          "base_uri": "https://localhost:8080/",
          "height": 52
        }
      },
      "source": [
        "\"\"\"\n",
        "\n",
        "2. Write a Python program to reverse a word after accepting the input from the user.\n",
        "Sample Output:\n",
        "Input word: ineuron\n",
        "Output: norueni\n",
        "\n",
        "\"\"\"\n",
        "a = input('enter a word : ')\n",
        "# print(a[::-1])\n",
        "b= ''\n",
        "for i in range(len(a)-1,-1,-1):\n",
        "  b+=a[i]\n",
        "print(b)\n"
      ],
      "execution_count": 45,
      "outputs": [
        {
          "output_type": "stream",
          "text": [
            "enter a word : ineuron\n",
            "norueni\n"
          ],
          "name": "stdout"
        }
      ]
    }
  ]
}