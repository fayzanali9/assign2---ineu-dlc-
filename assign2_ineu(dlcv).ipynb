{
  "nbformat": 4,
  "nbformat_minor": 0,
  "metadata": {
    "colab": {
      "name": "assign2 -ineu(dlcv)",
      "provenance": [],
      "collapsed_sections": [],
      "authorship_tag": "ABX9TyNjhSKfJ+KWAcLzbw9Uk1gL"
    },
    "kernelspec": {
      "name": "python3",
      "display_name": "Python 3"
    }
  },
  "cells": [
    {
      "cell_type": "code",
      "metadata": {
        "id": "By8dKcJSeYIa",
        "outputId": "164c20a2-cb3d-4ac2-b6ae-5694c3c2ec08",
        "colab": {
          "base_uri": "https://localhost:8080/",
          "height": 52
        }
      },
      "source": [
        "\"\"\"\n",
        "1. Create the below pattern using nested for loop in Python.\n",
        "*\n",
        "* *\n",
        "* * *\n",
        "* * * *\n",
        "* * * * *\n",
        "* * * *\n",
        "* * *\n",
        "* *\n",
        "*\n",
        "\"\"\"\n",
        "\n",
        "# Was not able to solve it ,took some help from here 'https://pynative.com/print-pattern-python-examples/'\n",
        "\n",
        "# rows = 9 \n",
        "# for i in range(0, (rows//2)+1):\n",
        "#     for j in range(0, i + 1):\n",
        "#         print(\"*\", end=' ')\n",
        "#     print()\n",
        "# else:\n",
        "#   for i in range((rows//2)+1, 0, -1):\n",
        "#       for j in range(0, i - 1):\n",
        "#           print(\"*\", end=' ')\n",
        "#       print()\n",
        "\n",
        "\"\"\"\n",
        "2. Write a Python program to reverse a word after accepting the input from the user.\n",
        "Sample Output:\n",
        "Input word: ineuron\n",
        "Output: norueni\n",
        "\"\"\"\n",
        "a = input('enter a word : ')\n",
        "# print(a[::-1])\n",
        "b= ''\n",
        "for i in range(len(a)-1,-1,-1):\n",
        "  b+=a[i]\n",
        "print(b)\n",
        "\n",
        "\n",
        "\n",
        "\n",
        "\n",
        "\n",
        "\n",
        "\n",
        "\n",
        "# for i in list(a):\n",
        "#   a[i],a[len(a)-i-1] = a[len(a)-i-1],a[i]\n",
        "#   print(str(a))"
      ],
      "execution_count": 42,
      "outputs": [
        {
          "output_type": "stream",
          "text": [
            "enter a word : ineuron\n",
            "norueni\n"
          ],
          "name": "stdout"
        }
      ]
    }
  ]
}